{
 "cells": [
  {
   "cell_type": "code",
   "execution_count": 16,
   "metadata": {},
   "outputs": [
    {
     "name": "stderr",
     "output_type": "stream",
     "text": [
      "\n",
      "[notice] A new release of pip is available: 23.3.2 -> 24.0\n",
      "[notice] To update, run: python.exe -m pip install --upgrade pip\n"
     ]
    },
    {
     "name": "stdout",
     "output_type": "stream",
     "text": [
      "Requirement already satisfied: pywin32 in c:\\users\\zouha\\appdata\\roaming\\python\\python311\\site-packages (306)\n",
      "Requirement already satisfied: pandas in c:\\users\\zouha\\appdata\\local\\programs\\python\\python311\\lib\\site-packages (2.1.1)\n",
      "Requirement already satisfied: numpy>=1.23.2 in c:\\users\\zouha\\appdata\\local\\programs\\python\\python311\\lib\\site-packages (from pandas) (1.26.1)\n",
      "Requirement already satisfied: python-dateutil>=2.8.2 in c:\\users\\zouha\\appdata\\roaming\\python\\python311\\site-packages (from pandas) (2.8.2)\n",
      "Requirement already satisfied: pytz>=2020.1 in c:\\users\\zouha\\appdata\\local\\programs\\python\\python311\\lib\\site-packages (from pandas) (2023.3.post1)\n",
      "Requirement already satisfied: tzdata>=2022.1 in c:\\users\\zouha\\appdata\\local\\programs\\python\\python311\\lib\\site-packages (from pandas) (2023.3)\n",
      "Requirement already satisfied: six>=1.5 in c:\\users\\zouha\\appdata\\roaming\\python\\python311\\site-packages (from python-dateutil>=2.8.2->pandas) (1.16.0)\n"
     ]
    },
    {
     "name": "stderr",
     "output_type": "stream",
     "text": [
      "\n",
      "[notice] A new release of pip is available: 23.3.2 -> 24.0\n",
      "[notice] To update, run: python.exe -m pip install --upgrade pip\n"
     ]
    },
    {
     "name": "stdout",
     "output_type": "stream",
     "text": [
      "Requirement already satisfied: openpyxl in c:\\users\\zouha\\appdata\\local\\programs\\python\\python311\\lib\\site-packages (3.1.2)\n",
      "Requirement already satisfied: et-xmlfile in c:\\users\\zouha\\appdata\\local\\programs\\python\\python311\\lib\\site-packages (from openpyxl) (1.1.0)\n"
     ]
    },
    {
     "name": "stderr",
     "output_type": "stream",
     "text": [
      "\n",
      "[notice] A new release of pip is available: 23.3.2 -> 24.0\n",
      "[notice] To update, run: python.exe -m pip install --upgrade pip\n"
     ]
    }
   ],
   "source": [
    "!pip install pywin32\n",
    "!pip install pandas\n",
    "!pip install openpyxl"
   ]
  },
  {
   "cell_type": "code",
   "execution_count": 2,
   "metadata": {},
   "outputs": [
    {
     "name": "stdout",
     "output_type": "stream",
     "text": [
      "Emails prepared. Review before sending.\n"
     ]
    }
   ],
   "source": [
    "import pandas as pd\n",
    "import win32com.client as win32\n",
    "from openpyxl import load_workbook\n",
    "\n",
    "# Load the Excel file\n",
    "#df = pd.read_excel('demo.xlsx')\n",
    "\n",
    "# Create an instance of the Outlook application\n",
    "outlook = win32.Dispatch('outlook.application')\n",
    "\n",
    "signature_html = \"\"\"\n",
    "<div style=\"font-family: 'Segoe UI', sans-serif;\">\n",
    "    <p style=\"color: #4CAF50; font-size: 24px;\">Badr Adnani<br>\n",
    "    <span style=\"color: black; font-size: 12px;\"><strong>Bachelor of Computer Science, Final Year</strong><br>\n",
    "    <a href=\"mailto:bh86jl@student.sunderland.ac.uk\" style=\"color: black; font-size: 12px;\">bh86jl@student.sunderland.ac.uk</a><br>\n",
    "    <strong>Create Britain</strong><br></span></p>\n",
    "    <a href=\"https://www.createbritain.com/Profiles/badradnani\"><img src=\"https://cdn-ukwest.onetrust.com/logos/6b0858fa-ec2c-4078-8a59-de179d25c13d/58e2182f-9bb3-47f6-8351-993f66f40c06/91d0b9df-c276-4bf1-baf3-07bbba727d34/UoS_Logo_BLACK.png\" width=\"200\" height=\"100\" alt=\"Logo 1\"></a><br><br>\n",
    "    <a href=\"https://www.createbritain.com/\"><img src=\"https://music.createbritain.com/images/logos/CreateBritain_Double.png\" alt=\"Logo 2\" width=\"200\" height=\"100\"></a>\n",
    "</div>\n",
    "\"\"\"\n",
    "\n",
    "\n",
    "\n",
    "\n",
    "# Template for the email body\n",
    "email_body_template = \"\"\"\n",
    "Dear {company_name},<br><br>\n",
    "\n",
    "My name is Badr Adnani, a final year Bachelor of Computer Science student at the University of Sunderland. I'm excited to invite your organization to join <strong>Create Sunderland</strong>, a new branch of <strong>Create Britain</strong>, aimed at fostering community collaboration. This initiative is a partnership with the University of Sunderland and is pivotal to my final year project and professional development.<br><br>\n",
    "\n",
    "Joining is <strong>free</strong>, and so are our services. I will personally ensure your organization is presented at its best, using information from your website to create a compelling profile. Upon your approval, we’ll make this profile public to enhance your visibility within the Sunderland community.<br><br>\n",
    "\n",
    "This opportunity is not only crucial for my career but also offers significant exposure for your organization. I look forward to possibly collaborating with you and would be honored to feature your organization on our platform.<br><br>\n",
    "\n",
    "Thank you for considering this invitation. I look forward to the possibility of working together to bring this project to life.<br><br>\n",
    "\n",
    "Warmest regards,\n",
    "\"\"\"\n",
    "\n",
    "print(\"Emails prepared. Review before sending.\")"
   ]
  },
  {
   "cell_type": "code",
   "execution_count": 3,
   "metadata": {},
   "outputs": [
    {
     "name": "stdout",
     "output_type": "stream",
     "text": [
      "\n",
      "Menu:\n",
      "1. Display email\n",
      "2. Send email\n",
      "3. Exit\n",
      "Displaying email for: Badr Adnani\n",
      "\n",
      "Menu:\n",
      "1. Display email\n",
      "2. Send email\n",
      "3. Exit\n",
      "Email already sent to Badr Adnani.\n",
      "Email already sent to zouhair.\n",
      "Invalid email for lts. Skipping.\n",
      "End of data reached. No more emails to send.\n",
      "\n",
      "Menu:\n",
      "1. Display email\n",
      "2. Send email\n",
      "3. Exit\n",
      "Email already sent to Badr Adnani.\n",
      "Email already sent to zouhair.\n",
      "Invalid email for lts. Skipping.\n",
      "End of data reached. No more emails to send.\n",
      "\n",
      "Menu:\n",
      "1. Display email\n",
      "2. Send email\n",
      "3. Exit\n",
      "Exiting the program.\n"
     ]
    }
   ],
   "source": [
    "import pandas as pd\n",
    "import win32com.client as win32\n",
    "from openpyxl import load_workbook\n",
    "\n",
    "\n",
    "# Function to check if the email is valid\n",
    "def is_valid_email(email):\n",
    "    if pd.isnull(email) or not isinstance(email, str):\n",
    "        return False\n",
    "    return \"@\" in email and \".\" in email\n",
    "\n",
    "# Function to update the status in the Excel sheet\n",
    "def update_status_in_excel(file_path, index, status):\n",
    "    workbook = load_workbook(filename=file_path)\n",
    "    sheet = workbook.active\n",
    "    cell = f'F{index+2}'  # Adjust if your status column is different\n",
    "    sheet[cell] = status\n",
    "    workbook.save(filename=file_path)\n",
    "    workbook.close()\n",
    "\n",
    "# Function to display the menu and get the choice\n",
    "def display_menu():\n",
    "    print(\"\\nMenu:\")\n",
    "    print(\"1. Display email\")\n",
    "    print(\"2. Send email\")\n",
    "    print(\"3. Exit\")\n",
    "    choice = input(\"Enter your choice (1/2/3): \")\n",
    "    return choice\n",
    "\n",
    "# Load the Excel file\n",
    "file_path = 'test.xlsx'  # Adjust the path to your actual Excel file\n",
    "df = pd.read_excel(file_path)\n",
    "\n",
    "# Create an instance of the Outlook application\n",
    "outlook = win32.Dispatch('outlook.application')\n",
    "\n",
    "# Initialize 'choice' by calling 'display_menu()' before entering the loop\n",
    "choice = display_menu()\n",
    "\n",
    "while choice != '3':\n",
    "    if choice == '1':\n",
    "        for index, row in df.iterrows():\n",
    "            company_name = row['Company Name']\n",
    "            email_address = row['Email']\n",
    "            \n",
    "            # If the company name is not null and the email is valid, display the email\n",
    "            if not pd.isnull(company_name) and is_valid_email(email_address):\n",
    "                print(f\"Displaying email for: {company_name}\")\n",
    "                mail = outlook.CreateItem(0)\n",
    "                mail.Subject = \"Invitation to Join Create Sunderland\"\n",
    "                mail.HTMLBody = email_body_template.format(company_name=company_name) + signature_html\n",
    "                mail.Display(True)  # This properly associates the display command with the mail object\n",
    "                break  # Exit after displaying the first valid email\n",
    "        else:\n",
    "            # The 'else' block for a 'for' loop executes when the loop is not terminated by a 'break' statement\n",
    "            print(\"No valid entry found for display.\")\n",
    "    elif choice == '2':\n",
    "        emails_processed = False\n",
    "        end_of_data_reached = False\n",
    "\n",
    "        for index, row in df.iterrows():\n",
    "            company_name = row['Company Name']\n",
    "            email_address = row['Email']\n",
    "            status = row.get('Status', '')\n",
    "\n",
    "            # Check for completely empty row (assuming 'Company Name' is always required)\n",
    "            if pd.isnull(company_name):\n",
    "                if not emails_processed:  # Check if this is the first empty row after actual data\n",
    "                    end_of_data_reached = True\n",
    "                break  # Break the loop if the company name is empty\n",
    "\n",
    "            if status == 'Sent':\n",
    "                print(f\"Email already sent to {company_name}.\")\n",
    "                continue\n",
    "\n",
    "            if not is_valid_email(email_address):\n",
    "                print(f\"Invalid email for {company_name}. Skipping.\")\n",
    "                continue\n",
    "\n",
    "            print(f\"Ready to send email to {company_name}. Press 'Y' to confirm.\")\n",
    "            confirmation = input().lower()\n",
    "            if confirmation == 'y':\n",
    "                mail = outlook.CreateItem(0)\n",
    "                mail.To = email_address\n",
    "                mail.Subject = \"Invitation to Join Create Sunderland\"\n",
    "                mail.HTMLBody = email_body_template.format(company_name=company_name) + signature_html\n",
    "                # Commented for safety.\n",
    "                #mail.Send()\n",
    "                update_status_in_excel(file_path, index, 'Sent')\n",
    "                print(f\"Email sent to {company_name}. Status updated in Excel.\")\n",
    "                emails_processed = True\n",
    "            else:\n",
    "                print(\"Email sending aborted by user.\")\n",
    "\n",
    "        if not emails_processed and not end_of_data_reached:\n",
    "            print(\"No emails were sent. Please check the data for valid entries.\")\n",
    "        elif end_of_data_reached:\n",
    "            print(\"End of data reached. No more emails to send.\")\n",
    "        elif emails_processed:\n",
    "            print(\"Some emails were sent successfully.\")\n",
    "        else:\n",
    "            print(\"An unexpected error occurred while sending emails.\")\n",
    "        \n",
    "    else:\n",
    "        print(\"Invalid choice. Please choose again.\")\n",
    "    \n",
    "    # Re-prompt the menu after handling the previous choice\n",
    "    choice = display_menu()\n",
    "\n",
    "print(\"Exiting the program.\")  # Update 'choice' at the end of the loop to reflect the next menu selection\n"
   ]
  }
 ],
 "metadata": {
  "kernelspec": {
   "display_name": "Python 3",
   "language": "python",
   "name": "python3"
  },
  "language_info": {
   "codemirror_mode": {
    "name": "ipython",
    "version": 3
   },
   "file_extension": ".py",
   "mimetype": "text/x-python",
   "name": "python",
   "nbconvert_exporter": "python",
   "pygments_lexer": "ipython3",
   "version": "3.11.3"
  }
 },
 "nbformat": 4,
 "nbformat_minor": 2
}
